{
 "cells": [
  {
   "cell_type": "code",
   "execution_count": 83,
   "metadata": {},
   "outputs": [],
   "source": [
    "#This is my pretrained and finetuned BERT for generation of words on a partially masked corpus of text i.e. Twitch Data"
   ]
  },
  {
   "cell_type": "code",
   "execution_count": 84,
   "metadata": {},
   "outputs": [],
   "source": [
    "#Utilizing Hugging Face\n",
    "#https://huggingface.co/docs/transformers/quicktour\n",
    "\n",
    "#Refs\n",
    "#https://towardsdatascience.com/how-to-use-bert-from-the-hugging-face-transformer-library-d373a22b0209"
   ]
  },
  {
   "attachments": {},
   "cell_type": "markdown",
   "metadata": {},
   "source": [
    "**Install Requirements**"
   ]
  },
  {
   "cell_type": "code",
   "execution_count": 85,
   "metadata": {},
   "outputs": [],
   "source": [
    "# %pip install transformers datasets\n",
    "#%pip install torch torchvision torchaudio -f https://download.pytorch.org/whl/cu${CUDA_VERSION}/torch_stable.html\n",
    "\n",
    "# %from transformers import EncoderDecoderModel, BertTokenizer\n",
    "#%pip freeze requirements.txt\n",
    "# %pip install matplotlib\n",
    "# %pip install numpy\n",
    "\n"
   ]
  },
  {
   "attachments": {},
   "cell_type": "markdown",
   "metadata": {},
   "source": [
    "**Imports**"
   ]
  },
  {
   "cell_type": "code",
   "execution_count": 86,
   "metadata": {},
   "outputs": [],
   "source": [
    "import transformers\n",
    "import torch\n",
    "import os\n",
    "import pandas as pd\n",
    "import pickle as pkl\n",
    "import random\n",
    "from torch.nn import functional as F\n",
    "import matplotlib.pyplot as plt\n",
    "import numpy as np\n",
    "from tqdm import tqdm\n",
    "from torch.utils.data import Dataset, DataLoader\n",
    "from transformers import AdamW, get_linear_schedule_with_warmup\n",
    "\n",
    "\n",
    "device = torch.device(\"cpu\")    # use CPU\n",
    "\n"
   ]
  },
  {
   "attachments": {},
   "cell_type": "markdown",
   "metadata": {},
   "source": [
    "**Loading Data**"
   ]
  },
  {
   "cell_type": "code",
   "execution_count": 87,
   "metadata": {},
   "outputs": [
    {
     "name": "stdout",
     "output_type": "stream",
     "text": [
      "Adding file: admiralbahroo.pkl\n",
      "Adding file: admiralbulldog.pkl\n"
     ]
    }
   ],
   "source": [
    "#Load Raw Data from StreamerData folder\n",
    "#- Take certain number of files from data folder to use for generation\n",
    "\n",
    "#Set this to the path of your data\n",
    "folder_path = 'C:/Users/anish/Projects/twitchBot/streamerdata'\n",
    "\n",
    "numFiles = 2\n",
    "\n",
    "data = []\n",
    "\n",
    "for i, file in enumerate(os.listdir(folder_path)):\n",
    "    print(\"Adding file:\", file)\n",
    "    if i == numFiles - 1:\n",
    "        break  \n",
    "    with open(os.path.join(folder_path, file), 'rb') as f:\n",
    "        curr_file = pkl.load(f)\n",
    "        data.append(curr_file)\n",
    "\n",
    "all_df = pd.concat(data, axis = 0)"
   ]
  },
  {
   "cell_type": "code",
   "execution_count": 88,
   "metadata": {},
   "outputs": [
    {
     "data": {
      "text/html": [
       "<div>\n",
       "<style scoped>\n",
       "    .dataframe tbody tr th:only-of-type {\n",
       "        vertical-align: middle;\n",
       "    }\n",
       "\n",
       "    .dataframe tbody tr th {\n",
       "        vertical-align: top;\n",
       "    }\n",
       "\n",
       "    .dataframe thead th {\n",
       "        text-align: right;\n",
       "    }\n",
       "</style>\n",
       "<table border=\"1\" class=\"dataframe\">\n",
       "  <thead>\n",
       "    <tr style=\"text-align: right;\">\n",
       "      <th></th>\n",
       "      <th>body</th>\n",
       "      <th>channel_id</th>\n",
       "      <th>commenter_id</th>\n",
       "      <th>commenter_type</th>\n",
       "      <th>created_at</th>\n",
       "      <th>fragments</th>\n",
       "      <th>offset</th>\n",
       "      <th>updated_at</th>\n",
       "      <th>video_id</th>\n",
       "    </tr>\n",
       "  </thead>\n",
       "  <tbody>\n",
       "    <tr>\n",
       "      <th>0</th>\n",
       "      <td>STILL LATE STRIMMER IS A BAKA rooBaka STRIMMER...</td>\n",
       "      <td>40972890</td>\n",
       "      <td>110969182</td>\n",
       "      <td>user</td>\n",
       "      <td>2018-06-24T17:07:43.067Z</td>\n",
       "      <td>[{'text': 'STILL LATE STRIMMER IS A BAKA '}, {...</td>\n",
       "      <td>4.367</td>\n",
       "      <td>2018-06-24T17:07:43.067Z</td>\n",
       "      <td>277073045</td>\n",
       "    </tr>\n",
       "    <tr>\n",
       "      <th>1</th>\n",
       "      <td>NOT LIVE rooREE rooREE rooREE</td>\n",
       "      <td>40972890</td>\n",
       "      <td>109856709</td>\n",
       "      <td>user</td>\n",
       "      <td>2018-06-24T17:07:43.168Z</td>\n",
       "      <td>[{'text': 'NOT LIVE '}, {'emoticon_id': '90487...</td>\n",
       "      <td>4.468</td>\n",
       "      <td>2018-06-24T17:07:43.168Z</td>\n",
       "      <td>277073045</td>\n",
       "    </tr>\n",
       "    <tr>\n",
       "      <th>2</th>\n",
       "      <td>rooBaka BAHROOrooBaka BAHROOrooBaka BAHROOrooB...</td>\n",
       "      <td>40972890</td>\n",
       "      <td>56159955</td>\n",
       "      <td>user</td>\n",
       "      <td>2018-06-24T17:07:44.631Z</td>\n",
       "      <td>[{'emoticon_id': '904818'}, {'text': ' BAHROOr...</td>\n",
       "      <td>5.931</td>\n",
       "      <td>2018-06-24T17:07:44.631Z</td>\n",
       "      <td>277073045</td>\n",
       "    </tr>\n",
       "    <tr>\n",
       "      <th>3</th>\n",
       "      <td>See</td>\n",
       "      <td>40972890</td>\n",
       "      <td>78678476</td>\n",
       "      <td>user</td>\n",
       "      <td>2018-06-24T17:07:45.602Z</td>\n",
       "      <td>[{'text': 'See'}]</td>\n",
       "      <td>6.902</td>\n",
       "      <td>2018-06-24T17:07:45.602Z</td>\n",
       "      <td>277073045</td>\n",
       "    </tr>\n",
       "    <tr>\n",
       "      <th>4</th>\n",
       "      <td>rooPog</td>\n",
       "      <td>40972890</td>\n",
       "      <td>30898708</td>\n",
       "      <td>user</td>\n",
       "      <td>2018-06-24T17:07:45.802Z</td>\n",
       "      <td>[{'emoticon_id': '904866'}]</td>\n",
       "      <td>7.102</td>\n",
       "      <td>2018-06-24T17:07:45.802Z</td>\n",
       "      <td>277073045</td>\n",
       "    </tr>\n",
       "  </tbody>\n",
       "</table>\n",
       "</div>"
      ],
      "text/plain": [
       "                                                body channel_id commenter_id  \\\n",
       "0  STILL LATE STRIMMER IS A BAKA rooBaka STRIMMER...   40972890    110969182   \n",
       "1                      NOT LIVE rooREE rooREE rooREE   40972890    109856709   \n",
       "2  rooBaka BAHROOrooBaka BAHROOrooBaka BAHROOrooB...   40972890     56159955   \n",
       "3                                                See   40972890     78678476   \n",
       "4                                             rooPog   40972890     30898708   \n",
       "\n",
       "  commenter_type                created_at  \\\n",
       "0           user  2018-06-24T17:07:43.067Z   \n",
       "1           user  2018-06-24T17:07:43.168Z   \n",
       "2           user  2018-06-24T17:07:44.631Z   \n",
       "3           user  2018-06-24T17:07:45.602Z   \n",
       "4           user  2018-06-24T17:07:45.802Z   \n",
       "\n",
       "                                           fragments  offset  \\\n",
       "0  [{'text': 'STILL LATE STRIMMER IS A BAKA '}, {...   4.367   \n",
       "1  [{'text': 'NOT LIVE '}, {'emoticon_id': '90487...   4.468   \n",
       "2  [{'emoticon_id': '904818'}, {'text': ' BAHROOr...   5.931   \n",
       "3                                  [{'text': 'See'}]   6.902   \n",
       "4                        [{'emoticon_id': '904866'}]   7.102   \n",
       "\n",
       "                 updated_at   video_id  \n",
       "0  2018-06-24T17:07:43.067Z  277073045  \n",
       "1  2018-06-24T17:07:43.168Z  277073045  \n",
       "2  2018-06-24T17:07:44.631Z  277073045  \n",
       "3  2018-06-24T17:07:45.602Z  277073045  \n",
       "4  2018-06-24T17:07:45.802Z  277073045  "
      ]
     },
     "metadata": {},
     "output_type": "display_data"
    },
    {
     "name": "stdout",
     "output_type": "stream",
     "text": [
      "['body', 'channel_id', 'commenter_id', 'commenter_type', 'created_at', 'fragments', 'offset', 'updated_at', 'video_id']\n",
      "Num Rows: 2722109\n",
      "Num Cols: 9\n"
     ]
    }
   ],
   "source": [
    "#Display all_data\n",
    "display(all_df.head())\n",
    "\n",
    "#Print data columns\n",
    "print([i for i in all_df.columns])\n",
    "\n",
    "#Print size of data\n",
    "print(\"Num Rows:\", len(all_df))\n",
    "print(\"Num Cols:\", len(all_df.columns))\n"
   ]
  },
  {
   "attachments": {},
   "cell_type": "markdown",
   "metadata": {},
   "source": [
    "**Data Preprocessing**"
   ]
  },
  {
   "cell_type": "code",
   "execution_count": 89,
   "metadata": {},
   "outputs": [
    {
     "name": "stdout",
     "output_type": "stream",
     "text": [
      "Number of Rows: 100\n"
     ]
    },
    {
     "data": {
      "text/plain": [
       "0    STILL LATE STRIMMER IS A BAKA rooBaka STRIMMER...\n",
       "1                        NOT LIVE rooREE [MASK] rooREE\n",
       "2    rooBaka BAHROOrooBaka BAHROOrooBaka BAHROOrooB...\n",
       "7           rooHappy [MASK] rooHappy rooHappy rooHappy\n",
       "8    rooREE LATE rooREE LATE rooREE LATE rooREE LAT...\n",
       "Name: masked, dtype: object"
      ]
     },
     "metadata": {},
     "output_type": "display_data"
    }
   ],
   "source": [
    "#Filter Data Frame by Strings that are longer than 3 -> Allow for masking\n",
    "long_df = all_df[all_df['body'].apply(lambda x: len(x.split(' '))) > 3]\n",
    "\n",
    "#Use small dataframe for testing efficiency's sake\n",
    "long_df = long_df.iloc[:100]\n",
    "print(\"Number of Rows:\", len(long_df))\n",
    "\n",
    "#Replace certain words with Mask token '[MASK]'\n",
    "masked_arr = long_df.body.tolist()\n",
    "for i in range(len(masked_arr)):\n",
    "\n",
    "    add_mask = masked_arr[i].split(\" \")\n",
    "    mask_index = random.randint(0, len(add_mask) - 1)\n",
    "    add_mask[mask_index] = '[MASK]'\n",
    "    masked_arr[i] = \" \".join(add_mask)\n",
    "\n",
    "\n",
    "long_df['masked'] = masked_arr\n",
    "\n",
    "display(long_df['masked'].head())"
   ]
  },
  {
   "attachments": {},
   "cell_type": "markdown",
   "metadata": {},
   "source": [
    "**Tokenizing**"
   ]
  },
  {
   "cell_type": "code",
   "execution_count": 90,
   "metadata": {},
   "outputs": [
    {
     "name": "stderr",
     "output_type": "stream",
     "text": [
      "Some weights of the model checkpoint at bert-base-uncased were not used when initializing BertForMaskedLM: ['cls.seq_relationship.weight', 'cls.seq_relationship.bias']\n",
      "- This IS expected if you are initializing BertForMaskedLM from the checkpoint of a model trained on another task or with another architecture (e.g. initializing a BertForSequenceClassification model from a BertForPreTraining model).\n",
      "- This IS NOT expected if you are initializing BertForMaskedLM from the checkpoint of a model that you expect to be exactly identical (initializing a BertForSequenceClassification model from a BertForSequenceClassification model).\n"
     ]
    }
   ],
   "source": [
    "#Taking the processed data and tokenizing it for the BERT model\n",
    "#Using the bert-base-uncased model\"\n",
    "#- 110M params\n",
    "#- English\n",
    "#- Trained on BookCorpus, dataset consisting of 11,038 unpublished books and English Wikipedia\n",
    "#- Vocabulary size of 30,000\n",
    "#- inputs are of the form [CLS] Sentence A [SEP] Sentence B [SEP]\n",
    "\n",
    "\n",
    "model_pretrained = 'bert-base-uncased'\n",
    "tokenizer = transformers.BertTokenizer.from_pretrained(model_pretrained)\n",
    "model = transformers.BertForMaskedLM.from_pretrained(model_pretrained, return_dict = True, output_hidden_states=True)\n",
    "long_df['tokens'] = [tokenizer.encode_plus(text, return_tensors = \"pt\") for text in long_df['masked']]\n"
   ]
  },
  {
   "attachments": {},
   "cell_type": "markdown",
   "metadata": {},
   "source": [
    "**Fine Tuning**"
   ]
  },
  {
   "cell_type": "code",
   "execution_count": 91,
   "metadata": {},
   "outputs": [],
   "source": [
    "class MaskedLMHead(torch.nn.Module):\n",
    "    def __init__(self, config):\n",
    "        super().__init__()\n",
    "        self.dense = torch.nn.Linear(config.hidden_size, config.hidden_size)\n",
    "        self.layer_norm = torch.nn.LayerNorm(config.hidden_size, eps=config.layer_norm_eps)\n",
    "        self.decoder = torch.nn.Linear(config.hidden_size, config.vocab_size, bias=False)\n",
    "        self.bias = torch.nn.Parameter(torch.zeros(config.vocab_size))\n",
    "\n",
    "    def forward(self, features):\n",
    "        x = self.dense(features)\n",
    "        x = torch.nn.functional.gelu(x)\n",
    "        x = self.layer_norm(x)\n",
    "        x = self.decoder(x) + self.bias\n",
    "        return x\n"
   ]
  },
  {
   "cell_type": "code",
   "execution_count": 92,
   "metadata": {},
   "outputs": [],
   "source": [
    "optimizer = torch.optim.Adam(model.parameters(), lr=5e-5)\n"
   ]
  },
  {
   "cell_type": "code",
   "execution_count": 93,
   "metadata": {},
   "outputs": [],
   "source": [
    "class TextDataset(Dataset):\n",
    "    def __init__(self, texts, tokenizer):\n",
    "        self.texts = texts\n",
    "        self.tokenizer = tokenizer\n",
    "        \n",
    "    def __len__(self):\n",
    "        return len(self.texts)\n",
    "    \n",
    "    def __getitem__(self, idx):\n",
    "        # Tokenize the text\n",
    "        tokenized_text = self.tokenizer.encode_plus(\n",
    "            self.texts[idx],\n",
    "            padding='max_length',\n",
    "            truncation=True,\n",
    "            max_length=512,\n",
    "            return_tensors='pt'\n",
    "        )\n",
    "        return tokenized_text['input_ids'], tokenized_text['attention_mask']\n"
   ]
  },
  {
   "cell_type": "code",
   "execution_count": 94,
   "metadata": {},
   "outputs": [
    {
     "data": {
      "text/plain": [
       "['STILL LATE STRIMMER IS A BAKA rooBaka STRIMMER IS A BAKA rooBaka STRIMMER [MASK] A BAKA rooBaka',\n",
       " 'NOT LIVE rooREE [MASK] rooREE',\n",
       " 'rooBaka BAHROOrooBaka BAHROOrooBaka BAHROOrooBaka BAHROOrooBaka BAHROOrooBaka BAHROOrooBaka BAHROOrooBaka BAHROOrooBaka BAHROOrooBaka BAHROOrooBaka BAHROOrooBaka [MASK] BAHROO',\n",
       " 'rooHappy [MASK] rooHappy rooHappy rooHappy',\n",
       " 'rooREE LATE rooREE LATE rooREE LATE rooREE LATE rooREE LATE rooREE LATE rooREE LATE rooREE LATE rooREE LATE rooREE LATE rooREE LATE rooREE LATE rooREE LATE rooREE LATE rooREE LATE rooREE LATE rooREE LATE rooREE [MASK] rooREE LATE rooREE LATE rooREE LATE rooREE LATE rooREE LATE rooREE LATE rooREE LATE rooREE LATE',\n",
       " 'roo3 [MASK] roo3 roo3',\n",
       " 'rooCop [MASK] rooCop rooCop rooCop',\n",
       " 'LIVE POGGERS LIVE POGGERS LIVE POGGERS LIVE POGGERS LIVE POGGERS LIVE POGGERS [MASK] POGGERS LIVE POGGERS',\n",
       " 'rooBaka BAHROO rooBaka [MASK] rooBaka BAHROO rooBaka BAHROO rooBaka BAHROO rooBaka BAHROO rooBaka BAHROO',\n",
       " 'rooHappy rooHappy rooHappy rooHappy rooHappy rooHappy rooHappy rooHappy rooHappy rooHappy [MASK] rooHappy rooHappy rooHappy rooHappy rooHappy rooHappy rooHappy rooHappy rooHappy rooHappy rooHappy rooHappy rooHappy rooHappy rooHappy rooHappy',\n",
       " 'TAXIC streemer! rooREE LATER [MASK]',\n",
       " 'STILL A [MASK] MIN TIMER AFTER BEING LATE rooREE',\n",
       " ': rooREE LATE rooREE LATE rooREE LATE rooREE LATE [MASK] LATE rooREE LATE rooREE LATE rooREE LATE rooREE LATE rooREE LATE rooREE LATE rooREE LATE rooREE LATE rooREE LATE rooREE LATE rooREE LATE rooREE LATE rooREE LATE',\n",
       " 'rooDuck rooDuck rooDuck [MASK] rooDuck rooDuck rooDuck rooDuck rooDuck rooDuck rooDuck rooDuck rooDuck rooDuck rooDuck rooDuck rooDuck rooDuck rooDuck',\n",
       " 'rooHappy [MASK] rooHappy mode?',\n",
       " 'even more time [MASK] wait rooREE rooREE rooREE rooREE',\n",
       " 'rooDuck rooDuck rooDuck [MASK] rooDuck',\n",
       " 'rooREE [MASK] A T E',\n",
       " 'rooHappy rooHappy rooHappy [MASK] rooHappy',\n",
       " 'PinkMercy PinkMercy PinkMercy [MASK]',\n",
       " 'rooREE [MASK] LATE rooREE roo4',\n",
       " 'rooThink rooThink rooThink [MASK]',\n",
       " 'RareRoo RareRoo RareRoo RareRoo RareRoo RareRoo [MASK] RareRoo RareRoo RareRoo RareRoo RareRoo',\n",
       " 'rooHappy rooDuck rooHappy rooDuck [MASK]',\n",
       " '7 min late and we still have to wait [MASK] min REEEEEE',\n",
       " 'rooHappy rooLove hi [MASK]',\n",
       " 'rooVV [MASK] rooVV rooVV rooVV rooVV',\n",
       " 'rooAww [MASK] rooREE ROO',\n",
       " 'rooREE PepePls rooREE PepePls rooREE PepePls rooREE PepePls [MASK] PepePls rooREE PepePls',\n",
       " 'rooHappy rooHappy rooHappy rooHappy rooHappy rooHappy [MASK] rooHappy rooHappy rooHappy rooHappy rooHappy rooHappy rooHappy rooHappy rooHappy rooHappy rooHappy rooHappy rooHappy rooHappy rooHappy',\n",
       " 'NEW PANDAS [MASK] !',\n",
       " '[MASK] we playing the new roohappy made',\n",
       " 'RareRoo Clap gachiBASS Clap [MASK] Clap gachiBASS Clap RareRoo Clap gachiBASS Clap',\n",
       " 'Live [MASK] LATE rooREE',\n",
       " 'o hi everyone [MASK]',\n",
       " 'rooDuck rooDuck rooDuck [MASK] rooDuck rooDuck rooDuck rooDuck rooDuck rooDuck rooDuck rooDuck rooDuck rooDuck rooDuck rooDuck',\n",
       " 'rooW INTO [MASK] MUD',\n",
       " 'rescShy rescShy rescShy rescShy rescShy rescShy [MASK] rescShy rescShy rescShy',\n",
       " 'rooHappy rooHappy [MASK] rooHappy rooHappy rooHappy rooHappy rooHappy rooHappy rooHappy rooHappy rooHappy rooHappy rooHappy rooHappy rooHappy rooHappy rooHappy rooHappy rooHappy rooHappy rooHappy rooHappy rooHappy',\n",
       " 'RareRoo FireDuck [MASK] FireDuck',\n",
       " 'Discord bot really [MASK] me late',\n",
       " 'rooHappy rooHappy rooHappy rooHappy rooHappy rooHappy rooHappy rooHappy rooHappy rooHappy rooHappy rooHappy rooHappy rooHappy rooHappy rooHappy rooHappy rooHappy rooHappy [MASK] rooHappy rooHappy rooHappy rooHappy rooHappy rooHappy rooHappy rooHappy rooHappy rooHappy rooHappy rooHappy rooHappy rooHappy',\n",
       " 'rooDuck rooDuck rooHappy rooHappy rooDuck rooHappy rooDuck [MASK]',\n",
       " 'rooREE L [MASK] A rooREE T rooREE T rooREE',\n",
       " \"[MASK] at work don't tell my boss\",\n",
       " 'rooHappy rooHappy rooHappy [MASK] rooHappy rooHappy rooHappy rooHappy rooHappy rooHappy rooHappy rooHappy',\n",
       " 'rooHappy rooHappy rooHappy rooHappy [MASK]',\n",
       " '[MASK] why is panda eyes purple',\n",
       " 'BACK [MASK] THE PIT HyperRawr',\n",
       " 'rooHappy rooHappy rooHappy [MASK] rooHappy',\n",
       " '(ditto) PepePls KKool nymnCorn RareRoo [MASK] (ditto) PepePls KKool nymnCorn RareRoo WanWan (ditto) PepePls KKool nymnCorn RareRoo WanWan (ditto) PepePls KKool nymnCorn RareRoo WanWan (ditto) PepePls KKool nymnCorn RareRoo WanWan (ditto) PepePls KKool nymnCorn RareRoo WanWan (ditto) PepePls KKool nymnCorn RareRoo WanWan',\n",
       " 'rooDuck rooDuck [MASK] rooSip',\n",
       " 'rooBlank rooBlank rooBlank rooBlank rooBlank [MASK] rooBlank rooBlank rooBlank',\n",
       " 'rooVV [MASK] rooVV rooVV rooVV rooVV',\n",
       " 'rooDerp rooDuck rooHappy rooDuck rooDerp rooDuck rooHappy rooDuck rooDerp rooDuck rooHappy rooDuck [MASK]',\n",
       " 'Bahroo isnt [MASK] hes just in UTC-6:08 LuL',\n",
       " 'gachiBASS [MASK] gachiBASS M gachiBASS C gachiBASS A',\n",
       " \"didn't [MASK] GDQ naroEh\",\n",
       " 'rooVV rooVV rooVV rooVV rooVV rooVV rooVV rooVV rooVV rooVV rooVV [MASK] rooVV rooVV rooVV',\n",
       " 'RareRoo D [MASK] M RareRoo C RareRoo A RareRoo',\n",
       " 'rooHappy rooHappy rooHappy rooHappy rooHappy [MASK] rooHappy rooHappy rooHappy rooHappy rooHappy rooHappy rooHappy rooHappy rooHappy rooHappy',\n",
       " 'rooREE [MASK] rooREE rooREE rooREE rooREE rooREE rooREE rooREE rooREE rooREE rooREE rooREE rooREE rooREE',\n",
       " 'rooHep rooHep rooHep rooHep rooHep [MASK] rooHep',\n",
       " 'Still [MASK] us wait ten minutes rooREE',\n",
       " '694 gift subs [MASK]',\n",
       " '[MASK] PepePls KKool nymnCorn RareRoo WanWan (ditto) PepePls KKool nymnCorn RareRoo WanWan (ditto) PepePls KKool nymnCorn RareRoo WanWan (ditto) PepePls KKool nymnCorn RareRoo WanWan (ditto) PepePls KKool nymnCorn RareRoo WanWan (ditto) PepePls KKool nymnCorn RareRoo WanWan (ditto) PepePls KKool nymnCorn RareRoo WanWan',\n",
       " 'rooHappy rooHappy rooHappy rooHappy [MASK] rooHappy rooHappy',\n",
       " 'rooDuck rooDuck [MASK] rooDuck rooDuck rooDuck rooDuck rooDuck rooDuck rooDuck',\n",
       " '[MASK] RareRoo RareRoo RareRoo RareRoo RareRoo RareRoo RareRoo',\n",
       " 'RareRoo D RareRoo M RareRoo C RareRoo [MASK]',\n",
       " 'RareRoo FireDuck RareRoo [MASK]',\n",
       " '694 gifted [MASK] LOL',\n",
       " 'StinkyCheese StinkyCheese [MASK] StinkyCheese',\n",
       " 'rooHappy [MASK] rooHappy rooHappy rooHappy',\n",
       " '@brandon09182 [MASK] do you get money for 700 subs',\n",
       " '[MASK] rooHappy rooHappy rooHappy',\n",
       " \"HEY GUYS IT'S UNSUB SUNDAY! [MASK]\",\n",
       " '694 [MASK] subs monkaS',\n",
       " 'just wait [MASK] more mins rooREE rooREE rooREE',\n",
       " 'rooHappy rooHappy rooHappy rooHappy rooHappy rooHappy rooHappy rooHappy [MASK] rooHappy rooHappy',\n",
       " 'rooREE 9 mins [MASK] !',\n",
       " 'rooHappy rooDuck [MASK] rooDuck rooHappy rooDuck rooHappy rooDuck rooHappy rooDuck',\n",
       " 'rooHappy rooHappy rooHappy rooHappy rooHappy [MASK] rooHappy rooHappy rooHappy',\n",
       " 'rooHappy rooHappy [MASK] rooHappy rooHappy',\n",
       " 'rooAww back rooHappy to rooAww the rooHappy pit [MASK]',\n",
       " 'rooGasm [MASK] boop timed w/ the drop',\n",
       " '@Xifani -> Current Stream Title: Bloodmoon Wk 25, More Darkest Dungeon, more [MASK]',\n",
       " 'RareRoo RareRoo RareRoo RareRoo [MASK] RareRoo RareRoo',\n",
       " 'rooREE LATE rooREE LATE rooREE LATE [MASK] LATE rooREE LATE rooREE LATE rooREE LATE rooREE LATE rooREE LATE rooREE LATE rooREE LATE rooREE LATE rooREE LATE rooREE LATE rooREE LATE',\n",
       " '[MASK] RareRoo rooREE RareRoo rooREE RareRoo rooREE RareRoo rooREE RareRoo rooREE RareRoo rooREE RareRoo',\n",
       " 'rooHappy mode so [MASK] rooAww',\n",
       " '[MASK] when do we have 900p quality option?',\n",
       " 'rooREE LATE rooREE LATE rooREE LATE rooREE LATE rooREE LATE rooREE LATE rooREE LATE rooREE LATE rooREE LATE rooREE LATE rooREE LATE rooREE [MASK] rooREE LATE rooREE LATE rooREE LATE',\n",
       " 'rooPog rooDuck rooPog [MASK] rooPog rooDuck rooPog rooDuck',\n",
       " 'RareRoo [MASK] PepePls RareRoo (ditto) PepePls RareRoo (ditto) PepePls RareRoo (ditto) PepePls',\n",
       " '@Latias4Ever 3 more days till i [MASK] press da button rooVV rooFeels',\n",
       " '[MASK] rooHappy rooHappy rooHappy rooHappy',\n",
       " \"Chatroom do you ever [MASK] about how it's the middle of summer and bahroo still has the winter/snow themed intermission screen for starting the stream\",\n",
       " '[MASK] rooHappy rooHappy rooHappy rooHappy rooHappy rooHappy rooHappy',\n",
       " 'danSip danH danSip danH [MASK] danH']"
      ]
     },
     "execution_count": 94,
     "metadata": {},
     "output_type": "execute_result"
    }
   ],
   "source": [
    "#list(long_df['masked'])"
   ]
  },
  {
   "cell_type": "code",
   "execution_count": 95,
   "metadata": {},
   "outputs": [
    {
     "data": {
      "text/plain": [
       "'|===========================================================================|\\n|                  PyTorch CUDA memory summary, device ID 0                 |\\n|---------------------------------------------------------------------------|\\n|            CUDA OOMs: 1            |        cudaMalloc retries: 1         |\\n|===========================================================================|\\n|        Metric         | Cur Usage  | Peak Usage | Tot Alloc  | Tot Freed  |\\n|---------------------------------------------------------------------------|\\n| Allocated memory      |   8320 KiB |   7418 MiB |  13842 MiB |  13833 MiB |\\n|       from large pool |   8320 KiB |   7322 MiB |  13745 MiB |  13737 MiB |\\n|       from small pool |      0 KiB |     95 MiB |     96 MiB |     96 MiB |\\n|---------------------------------------------------------------------------|\\n| Active memory         |   8320 KiB |   7418 MiB |  13842 MiB |  13833 MiB |\\n|       from large pool |   8320 KiB |   7322 MiB |  13745 MiB |  13737 MiB |\\n|       from small pool |      0 KiB |     95 MiB |     96 MiB |     96 MiB |\\n|---------------------------------------------------------------------------|\\n| Requested memory      |   8320 KiB |   7306 MiB |  13578 MiB |  13570 MiB |\\n|       from large pool |   8320 KiB |   7210 MiB |  13482 MiB |  13474 MiB |\\n|       from small pool |      0 KiB |     95 MiB |     96 MiB |     96 MiB |\\n|---------------------------------------------------------------------------|\\n| GPU reserved memory   |   7440 MiB |   7440 MiB |   7440 MiB |      0 B   |\\n|       from large pool |   7338 MiB |   7338 MiB |   7338 MiB |      0 B   |\\n|       from small pool |    102 MiB |    102 MiB |    102 MiB |      0 B   |\\n|---------------------------------------------------------------------------|\\n| Non-releasable memory |  12160 KiB | 340210 KiB |  13635 MiB |  13623 MiB |\\n|       from large pool |  12160 KiB | 325376 KiB |  13469 MiB |  13458 MiB |\\n|       from small pool |      0 KiB |  30640 KiB |    165 MiB |    165 MiB |\\n|---------------------------------------------------------------------------|\\n| Allocations           |       1    |    2767    |    3891    |    3890    |\\n|       from large pool |       1    |    1740    |    2781    |    2780    |\\n|       from small pool |       0    |    1027    |    1110    |    1110    |\\n|---------------------------------------------------------------------------|\\n| Active allocs         |       1    |    2767    |    3891    |    3890    |\\n|       from large pool |       1    |    1740    |    2781    |    2780    |\\n|       from small pool |       0    |    1027    |    1110    |    1110    |\\n|---------------------------------------------------------------------------|\\n| GPU reserved segments |     425    |     425    |     425    |       0    |\\n|       from large pool |     374    |     374    |     374    |       0    |\\n|       from small pool |      51    |      51    |      51    |       0    |\\n|---------------------------------------------------------------------------|\\n| Non-releasable allocs |       2    |     109    |    1811    |    1809    |\\n|       from large pool |       2    |      35    |    1399    |    1397    |\\n|       from small pool |       0    |      93    |     412    |     412    |\\n|---------------------------------------------------------------------------|\\n| Oversize allocations  |       0    |       0    |       0    |       0    |\\n|---------------------------------------------------------------------------|\\n| Oversize GPU segments |       0    |       0    |       0    |       0    |\\n|===========================================================================|\\n'"
      ]
     },
     "execution_count": 95,
     "metadata": {},
     "output_type": "execute_result"
    }
   ],
   "source": [
    "torch.cuda.memory_summary(device=None, abbreviated=False)\n"
   ]
  },
  {
   "cell_type": "code",
   "execution_count": 97,
   "metadata": {},
   "outputs": [
    {
     "name": "stdout",
     "output_type": "stream",
     "text": [
      "Epoch: 1\n"
     ]
    },
    {
     "name": "stderr",
     "output_type": "stream",
     "text": [
      "100%|██████████| 100/100 [06:57<00:00,  4.18s/it]"
     ]
    },
    {
     "name": "stdout",
     "output_type": "stream",
     "text": [
      "Avg Loss: 1.9094887848198414\n"
     ]
    },
    {
     "name": "stderr",
     "output_type": "stream",
     "text": [
      "\n"
     ]
    }
   ],
   "source": [
    "\n",
    "train_dataset = TextDataset(list(long_df['masked']), tokenizer)\n",
    "train_loader = DataLoader(train_dataset, batch_size=1, shuffle=True)\n",
    "mlm_head = MaskedLMHead(model.config).to(device)\n",
    "criterion = torch.nn.CrossEntropyLoss().to(device)\n",
    "# Define the scheduler\n",
    "num_training_steps = len(train_loader) * 3\n",
    "num_warmup_steps = int(num_training_steps * 0.1)\n",
    "scheduler = get_linear_schedule_with_warmup(optimizer, num_warmup_steps=num_warmup_steps, num_training_steps=num_training_steps)\n",
    "\n",
    "model.to(device)\n",
    "\n",
    "for epoch in range(1):\n",
    "    print('Epoch:', epoch+1)\n",
    "    model.train()\n",
    "    total_loss = 0\n",
    "    for batch in tqdm(train_loader):\n",
    "        input_ids, attention_mask, *_  = batch\n",
    "        input_ids, attention_mask = input_ids.view(-1, input_ids.size(-1)), attention_mask.view(-1, attention_mask.size(-1))\n",
    "        outputs = model(input_ids=input_ids.to(device), attention_mask=attention_mask.to(device), labels=input_ids.to(device))\n",
    "        logits = mlm_head(outputs.hidden_states[-1]).to(device)\n",
    "        loss = criterion(logits.view(-1, logits.shape[-1]), input_ids.view(-1))\n",
    "        \n",
    "        loss.backward()\n",
    "        optimizer.step()\n",
    "        scheduler.step()\n",
    "        optimizer.zero_grad()\n",
    "        \n",
    "        total_loss += loss.item()\n",
    "    \n",
    "    avg_loss = total_loss / len(train_loader)\n",
    "    print('Avg Loss:', avg_loss)\n"
   ]
  },
  {
   "attachments": {},
   "cell_type": "markdown",
   "metadata": {},
   "source": [
    "**Get Predictions**"
   ]
  },
  {
   "cell_type": "code",
   "execution_count": 98,
   "metadata": {},
   "outputs": [
    {
     "name": "stdout",
     "output_type": "stream",
     "text": [
      "0 Masked: STILL LATE STRIMMER IS A BAKA rooBaka STRIMMER IS A BAKA rooBaka STRIMMER IS A BAKA rooBaka\n",
      "0 Predicted: STILL LATE STRIMMER IS A BAKA rooBaka STRIMMER IS A BAKA rooBaka STRIMMER american A BAKA rooBaka\n",
      "1 Masked: NOT LIVE rooREE rooREE rooREE\n",
      "1 Predicted: NOT LIVE rooREE american rooREE\n",
      "2 Masked: rooBaka BAHROOrooBaka BAHROOrooBaka BAHROOrooBaka BAHROOrooBaka BAHROOrooBaka BAHROOrooBaka BAHROOrooBaka BAHROOrooBaka BAHROOrooBaka BAHROOrooBaka BAHROOrooBaka BAHROOrooBaka BAHROO\n",
      "2 Predicted: rooBaka BAHROOrooBaka BAHROOrooBaka BAHROOrooBaka BAHROOrooBaka BAHROOrooBaka BAHROOrooBaka BAHROOrooBaka BAHROOrooBaka BAHROOrooBaka BAHROOrooBaka BAHROOrooBaka ##ee BAHROO\n",
      "3 Masked: rooHappy rooHappy rooHappy rooHappy rooHappy\n",
      "3 Predicted: rooHappy american rooHappy rooHappy rooHappy\n",
      "4 Masked: rooREE LATE rooREE LATE rooREE LATE rooREE LATE rooREE LATE rooREE LATE rooREE LATE rooREE LATE rooREE LATE rooREE LATE rooREE LATE rooREE LATE rooREE LATE rooREE LATE rooREE LATE rooREE LATE rooREE LATE rooREE LATE rooREE LATE rooREE LATE rooREE LATE rooREE LATE rooREE LATE rooREE LATE rooREE LATE rooREE LATE\n",
      "4 Predicted: rooREE LATE rooREE LATE rooREE LATE rooREE LATE rooREE LATE rooREE LATE rooREE LATE rooREE LATE rooREE LATE rooREE LATE rooREE LATE rooREE LATE rooREE LATE rooREE LATE rooREE LATE rooREE LATE rooREE LATE rooREE american rooREE LATE rooREE LATE rooREE LATE rooREE LATE rooREE LATE rooREE LATE rooREE LATE rooREE LATE\n"
     ]
    }
   ],
   "source": [
    "predictions = []\n",
    "numberPredsPer = 10\n",
    "for text in long_df['masked']:\n",
    "    input = tokenizer.encode_plus(text, return_tensors = \"pt\")\n",
    "    mask_index = torch.where(input[\"input_ids\"][0] == tokenizer.mask_token_id)\n",
    "    output = model(**input)\n",
    "    logits = output.logits\n",
    "    softmax = F.softmax(logits, dim = -1)\n",
    "    mask_word = softmax[0, mask_index, :]\n",
    "    top_10 = torch.topk(mask_word, numberPredsPer, dim = 1)[1][0]\n",
    "    curr_preds = []\n",
    "    for token in top_10:\n",
    "        word = tokenizer.decode([token])\n",
    "        new_sentence = text.replace(tokenizer.mask_token, word)\n",
    "        curr_preds.append(new_sentence)\n",
    "    predictions.append(curr_preds)\n",
    "\n",
    "\n",
    "long_df['predictions'] = predictions\n",
    "\n",
    "#Display your Predictions vs. Actual!\n",
    "for row in range(len(long_df.body[:5])):\n",
    "    print(row, \"Masked:\", long_df.iloc[row].body)\n",
    "    print(row, \"Predicted:\", long_df.iloc[row].predictions[0])"
   ]
  },
  {
   "attachments": {},
   "cell_type": "markdown",
   "metadata": {},
   "source": [
    "**Loss Metric**"
   ]
  },
  {
   "cell_type": "code",
   "execution_count": 99,
   "metadata": {},
   "outputs": [
    {
     "name": "stdout",
     "output_type": "stream",
     "text": [
      "Cosine similarity: 0.9893114876747131\n"
     ]
    }
   ],
   "source": [
    "##Using Cosine Similarity as the metric of comparison\n",
    "\n",
    "def cosine_similarity(a, b):\n",
    "    return F.cosine_similarity(a, b, dim=1).item()\n",
    "\n",
    "#Calculate similarity over entire data set\n",
    "similarities = []\n",
    "for i in range(len(long_df.body)):\n",
    "    with torch.no_grad():\n",
    "        original_embedding = model(input_ids=long_df.iloc[i].tokens[\"input_ids\"]).hidden_states[-1].mean(dim=1)\n",
    "        predicted_embedding = model(input_ids=tokenizer.encode_plus(long_df.iloc[i].predictions[0], return_tensors='pt')['input_ids']).hidden_states[-1].mean(dim=1)\n",
    "\n",
    "    similarity = cosine_similarity(original_embedding, predicted_embedding)\n",
    "    similarities.append(similarity)\n",
    "print(\"Cosine similarity:\", sum(similarities) / len(similarities))"
   ]
  },
  {
   "cell_type": "code",
   "execution_count": 100,
   "metadata": {},
   "outputs": [
    {
     "data": {
      "text/plain": [
       "Text(0.5, 0, 'Sentence #')"
      ]
     },
     "execution_count": 100,
     "metadata": {},
     "output_type": "execute_result"
    },
    {
     "data": {
      "image/png": "[encoded data removed]",
      "text/plain": [
       "<Figure size 640x480 with 1 Axes>"
      ]
     },
     "metadata": {},
     "output_type": "display_data"
    }
   ],
   "source": [
    "#Display your results!\n",
    "plt.scatter(range(len(similarities)), similarities)\n",
    "plt.xlim(0, len(similarities))\n",
    "plt.ylim(0, 1)\n",
    "plt.ylabel(\"Cosine Similarity of Predicted vs. Actual\")\n",
    "plt.xlabel(\"Sentence #\")"
   ]
  },
  {
   "attachments": {},
   "cell_type": "markdown",
   "metadata": {},
   "source": [
    "** Alternate Methodolgy of Calling Hugging Face Model **"
   ]
  },
  {
   "cell_type": "code",
   "execution_count": null,
   "metadata": {},
   "outputs": [],
   "source": [
    "from transformers import pipeline\n",
    "unmasker = pipeline('fill-mask', model='bert-base-uncased')\n",
    "unmasker(\"The quick brown fox jumps over the lazy [MASK].\")"
   ]
  }
 ],
 "metadata": {
  "kernelspec": {
   "display_name": ".venv",
   "language": "python",
   "name": "python3"
  },
  "language_info": {
   "codemirror_mode": {
    "name": "ipython",
    "version": 3
   },
   "file_extension": ".py",
   "mimetype": "text/x-python",
   "name": "python",
   "nbconvert_exporter": "python",
   "pygments_lexer": "ipython3",
   "version": "3.8.8"
  },
  "orig_nbformat": 4
 },
 "nbformat": 4,
 "nbformat_minor": 2
}
