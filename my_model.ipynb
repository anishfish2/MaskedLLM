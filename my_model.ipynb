{
 "cells": [
  {
   "cell_type": "code",
   "execution_count": 1,
   "metadata": {},
   "outputs": [],
   "source": [
    "#This is my model for generation of words on a partially masked corpus of text i.e. Twitch Data"
   ]
  },
  {
   "cell_type": "code",
   "execution_count": 2,
   "metadata": {},
   "outputs": [],
   "source": [
    "#Utilizing Hugging Face\n",
    "#https://huggingface.co/docs/transformers/quicktour\n",
    "\n",
    "#Refs\n",
    "#https://towardsdatascience.com/how-to-use-bert-from-the-hugging-face-transformer-library-d373a22b0209"
   ]
  },
  {
   "attachments": {},
   "cell_type": "markdown",
   "metadata": {},
   "source": [
    "**Install Requirements**"
   ]
  },
  {
   "cell_type": "code",
   "execution_count": 3,
   "metadata": {},
   "outputs": [],
   "source": [
    "# %pip install transformers datasets\n",
    "# %pip install torch\n",
    "# %from transformers import EncoderDecoderModel, BertTokenizer\n",
    "# %pip freeze requirements.txt\n",
    "# %pip install matplotlib\n",
    "# %pip install numpy\n",
    "# %pip install tensorflow\n",
    "# %pip install scikit-learn\n"
   ]
  },
  {
   "attachments": {},
   "cell_type": "markdown",
   "metadata": {},
   "source": [
    "**Imports**"
   ]
  },
  {
   "cell_type": "code",
   "execution_count": 1,
   "metadata": {},
   "outputs": [
    {
     "name": "stderr",
     "output_type": "stream",
     "text": [
      "c:\\Users\\anish\\Projects\\twitchBot\\venv\\lib\\site-packages\\tqdm\\auto.py:21: TqdmWarning: IProgress not found. Please update jupyter and ipywidgets. See https://ipywidgets.readthedocs.io/en/stable/user_install.html\n",
      "  from .autonotebook import tqdm as notebook_tqdm\n"
     ]
    }
   ],
   "source": [
    "import transformers\n",
    "import torch\n",
    "import os\n",
    "import pandas as pd\n",
    "import pickle as pkl\n",
    "import random\n",
    "from torch.nn import functional as F\n",
    "import matplotlib.pyplot as plt\n",
    "import numpy as np\n",
    "import tensorflow as tf\n",
    "import numpy as np\n",
    "from sklearn.metrics.pairwise import cosine_similarity"
   ]
  },
  {
   "attachments": {},
   "cell_type": "markdown",
   "metadata": {},
   "source": [
    "**Loading Data**"
   ]
  },
  {
   "cell_type": "code",
   "execution_count": 2,
   "metadata": {},
   "outputs": [
    {
     "name": "stdout",
     "output_type": "stream",
     "text": [
      "Adding file: admiralbahroo.pkl\n",
      "Adding file: admiralbulldog.pkl\n"
     ]
    }
   ],
   "source": [
    "#Load Raw Data from StreamerData folder\n",
    "#- Take certain number of files from data folder to use for generation\n",
    "\n",
    "#Set this to the path of your data\n",
    "folder_path = 'C:/Users/anish/Projects/twitchBot/streamerdata'\n",
    "\n",
    "numFiles = 2\n",
    "\n",
    "data = []\n",
    "\n",
    "for i, file in enumerate(os.listdir(folder_path)):\n",
    "    print(\"Adding file:\", file)\n",
    "    if i == numFiles - 1:\n",
    "        break  \n",
    "    with open(os.path.join(folder_path, file), 'rb') as f:\n",
    "        curr_file = pkl.load(f)\n",
    "        data.append(curr_file)\n",
    "\n",
    "all_df = pd.concat(data, axis = 0)"
   ]
  },
  {
   "cell_type": "code",
   "execution_count": 3,
   "metadata": {},
   "outputs": [
    {
     "data": {
      "text/html": [
       "<div>\n",
       "<style scoped>\n",
       "    .dataframe tbody tr th:only-of-type {\n",
       "        vertical-align: middle;\n",
       "    }\n",
       "\n",
       "    .dataframe tbody tr th {\n",
       "        vertical-align: top;\n",
       "    }\n",
       "\n",
       "    .dataframe thead th {\n",
       "        text-align: right;\n",
       "    }\n",
       "</style>\n",
       "<table border=\"1\" class=\"dataframe\">\n",
       "  <thead>\n",
       "    <tr style=\"text-align: right;\">\n",
       "      <th></th>\n",
       "      <th>body</th>\n",
       "      <th>channel_id</th>\n",
       "      <th>commenter_id</th>\n",
       "      <th>commenter_type</th>\n",
       "      <th>created_at</th>\n",
       "      <th>fragments</th>\n",
       "      <th>offset</th>\n",
       "      <th>updated_at</th>\n",
       "      <th>video_id</th>\n",
       "    </tr>\n",
       "  </thead>\n",
       "  <tbody>\n",
       "    <tr>\n",
       "      <th>0</th>\n",
       "      <td>STILL LATE STRIMMER IS A BAKA rooBaka STRIMMER...</td>\n",
       "      <td>40972890</td>\n",
       "      <td>110969182</td>\n",
       "      <td>user</td>\n",
       "      <td>2018-06-24T17:07:43.067Z</td>\n",
       "      <td>[{'text': 'STILL LATE STRIMMER IS A BAKA '}, {...</td>\n",
       "      <td>4.367</td>\n",
       "      <td>2018-06-24T17:07:43.067Z</td>\n",
       "      <td>277073045</td>\n",
       "    </tr>\n",
       "    <tr>\n",
       "      <th>1</th>\n",
       "      <td>NOT LIVE rooREE rooREE rooREE</td>\n",
       "      <td>40972890</td>\n",
       "      <td>109856709</td>\n",
       "      <td>user</td>\n",
       "      <td>2018-06-24T17:07:43.168Z</td>\n",
       "      <td>[{'text': 'NOT LIVE '}, {'emoticon_id': '90487...</td>\n",
       "      <td>4.468</td>\n",
       "      <td>2018-06-24T17:07:43.168Z</td>\n",
       "      <td>277073045</td>\n",
       "    </tr>\n",
       "    <tr>\n",
       "      <th>2</th>\n",
       "      <td>rooBaka BAHROOrooBaka BAHROOrooBaka BAHROOrooB...</td>\n",
       "      <td>40972890</td>\n",
       "      <td>56159955</td>\n",
       "      <td>user</td>\n",
       "      <td>2018-06-24T17:07:44.631Z</td>\n",
       "      <td>[{'emoticon_id': '904818'}, {'text': ' BAHROOr...</td>\n",
       "      <td>5.931</td>\n",
       "      <td>2018-06-24T17:07:44.631Z</td>\n",
       "      <td>277073045</td>\n",
       "    </tr>\n",
       "    <tr>\n",
       "      <th>3</th>\n",
       "      <td>See</td>\n",
       "      <td>40972890</td>\n",
       "      <td>78678476</td>\n",
       "      <td>user</td>\n",
       "      <td>2018-06-24T17:07:45.602Z</td>\n",
       "      <td>[{'text': 'See'}]</td>\n",
       "      <td>6.902</td>\n",
       "      <td>2018-06-24T17:07:45.602Z</td>\n",
       "      <td>277073045</td>\n",
       "    </tr>\n",
       "    <tr>\n",
       "      <th>4</th>\n",
       "      <td>rooPog</td>\n",
       "      <td>40972890</td>\n",
       "      <td>30898708</td>\n",
       "      <td>user</td>\n",
       "      <td>2018-06-24T17:07:45.802Z</td>\n",
       "      <td>[{'emoticon_id': '904866'}]</td>\n",
       "      <td>7.102</td>\n",
       "      <td>2018-06-24T17:07:45.802Z</td>\n",
       "      <td>277073045</td>\n",
       "    </tr>\n",
       "  </tbody>\n",
       "</table>\n",
       "</div>"
      ],
      "text/plain": [
       "                                                body channel_id commenter_id  \\\n",
       "0  STILL LATE STRIMMER IS A BAKA rooBaka STRIMMER...   40972890    110969182   \n",
       "1                      NOT LIVE rooREE rooREE rooREE   40972890    109856709   \n",
       "2  rooBaka BAHROOrooBaka BAHROOrooBaka BAHROOrooB...   40972890     56159955   \n",
       "3                                                See   40972890     78678476   \n",
       "4                                             rooPog   40972890     30898708   \n",
       "\n",
       "  commenter_type                created_at  \\\n",
       "0           user  2018-06-24T17:07:43.067Z   \n",
       "1           user  2018-06-24T17:07:43.168Z   \n",
       "2           user  2018-06-24T17:07:44.631Z   \n",
       "3           user  2018-06-24T17:07:45.602Z   \n",
       "4           user  2018-06-24T17:07:45.802Z   \n",
       "\n",
       "                                           fragments  offset  \\\n",
       "0  [{'text': 'STILL LATE STRIMMER IS A BAKA '}, {...   4.367   \n",
       "1  [{'text': 'NOT LIVE '}, {'emoticon_id': '90487...   4.468   \n",
       "2  [{'emoticon_id': '904818'}, {'text': ' BAHROOr...   5.931   \n",
       "3                                  [{'text': 'See'}]   6.902   \n",
       "4                        [{'emoticon_id': '904866'}]   7.102   \n",
       "\n",
       "                 updated_at   video_id  \n",
       "0  2018-06-24T17:07:43.067Z  277073045  \n",
       "1  2018-06-24T17:07:43.168Z  277073045  \n",
       "2  2018-06-24T17:07:44.631Z  277073045  \n",
       "3  2018-06-24T17:07:45.602Z  277073045  \n",
       "4  2018-06-24T17:07:45.802Z  277073045  "
      ]
     },
     "metadata": {},
     "output_type": "display_data"
    },
    {
     "name": "stdout",
     "output_type": "stream",
     "text": [
      "['body', 'channel_id', 'commenter_id', 'commenter_type', 'created_at', 'fragments', 'offset', 'updated_at', 'video_id']\n",
      "Num Rows: 2722109\n",
      "Num Cols: 9\n"
     ]
    }
   ],
   "source": [
    "#Display all_data\n",
    "display(all_df.head())\n",
    "\n",
    "#Print data columns\n",
    "print([i for i in all_df.columns])\n",
    "\n",
    "#Print size of data\n",
    "print(\"Num Rows:\", len(all_df))\n",
    "print(\"Num Cols:\", len(all_df.columns))\n"
   ]
  },
  {
   "attachments": {},
   "cell_type": "markdown",
   "metadata": {},
   "source": [
    "**Data Preprocessing**"
   ]
  },
  {
   "cell_type": "code",
   "execution_count": 48,
   "metadata": {},
   "outputs": [
    {
     "name": "stdout",
     "output_type": "stream",
     "text": [
      "Number of Rows: 100\n"
     ]
    },
    {
     "data": {
      "text/plain": [
       "0    STILL [MASK] STRIMMER IS A BAKA rooBaka STRIMM...\n",
       "1                     [MASK] LIVE rooREE rooREE rooREE\n",
       "2    rooBaka [MASK] BAHROOrooBaka BAHROOrooBaka BAH...\n",
       "7           [MASK] rooHappy rooHappy rooHappy rooHappy\n",
       "8    rooREE LATE rooREE LATE rooREE LATE rooREE LAT...\n",
       "Name: masked, dtype: object"
      ]
     },
     "metadata": {},
     "output_type": "display_data"
    }
   ],
   "source": [
    "#Filter Data Frame by Strings that are longer than 3 -> Allow for masking\n",
    "long_df = all_df[all_df['body'].apply(lambda x: len(x.split(' '))) > 3]\n",
    "\n",
    "#Use small dataframe for testing efficiency's sake\n",
    "long_df = long_df.iloc[:100]\n",
    "print(\"Number of Rows:\", len(long_df))\n",
    "\n",
    "#Replace certain words with Mask token '[MASK]'\n",
    "masked_arr = long_df.body.tolist()\n",
    "for i in range(len(masked_arr)):\n",
    "\n",
    "    add_mask = masked_arr[i].split(\" \")\n",
    "    mask_index = random.randint(0, len(add_mask) - 1)\n",
    "    add_mask[mask_index] = '[MASK]'\n",
    "    masked_arr[i] = \" \".join(add_mask)\n",
    "\n",
    "\n",
    "long_df['masked'] = masked_arr\n",
    "\n",
    "display(long_df['masked'].head())"
   ]
  },
  {
   "cell_type": "code",
   "execution_count": 49,
   "metadata": {},
   "outputs": [],
   "source": [
    "all_words = []\n",
    "for i in range(len(long_df['body'])):\n",
    "    all_words += long_df['body'].iloc[i].split(\" \")"
   ]
  },
  {
   "attachments": {},
   "cell_type": "markdown",
   "metadata": {},
   "source": [
    "**Tokenizing**"
   ]
  },
  {
   "cell_type": "code",
   "execution_count": 56,
   "metadata": {},
   "outputs": [
    {
     "name": "stdout",
     "output_type": "stream",
     "text": [
      "IS\n",
      "0.83073515\n",
      "LIVE\n",
      "0.83370066\n",
      "TIMER\n",
      "0.5281348\n",
      "TIMER\n",
      "0.5281348\n",
      "LATE\n",
      "0.99960655\n",
      "TIMER\n",
      "0.5281348\n",
      "TIMER\n",
      "0.5281348\n",
      "LIVE\n",
      "0.9949451\n",
      "TIMER\n",
      "0.5281348\n",
      "TIMER\n",
      "0.5281348\n",
      "TIMER\n",
      "0.5281348\n",
      "LATE\n",
      "0.7753882\n",
      "LATE\n",
      "0.9991583\n",
      "TIMER\n",
      "0.5281348\n",
      "new\n",
      "0.5524459\n",
      "wait\n",
      "0.6929407\n",
      "TIMER\n",
      "0.5281348\n",
      "E\n",
      "0.7583683\n",
      "TIMER\n",
      "0.5281348\n",
      "TIMER\n",
      "0.5281348\n",
      "LATE\n",
      "0.82769924\n",
      "TIMER\n",
      "0.5281348\n",
      "TIMER\n",
      "0.5281348\n",
      "TIMER\n",
      "0.5281348\n",
      "min\n",
      "0.6375881\n",
      "hi\n",
      "0.78050095\n",
      "TIMER\n",
      "0.5281348\n",
      "ROO\n",
      "0.7633183\n",
      "TIMER\n",
      "0.5281348\n",
      "TIMER\n",
      "0.5281348\n",
      "ARTIST\n",
      "0.83224005\n",
      "playing\n",
      "0.623025\n",
      "Clap\n",
      "0.98725635\n",
      "LATE\n",
      "0.83747226\n",
      "hi\n",
      "0.78050095\n",
      "TIMER\n",
      "0.5281348\n",
      "INTO\n",
      "0.8391951\n",
      "TIMER\n",
      "0.5281348\n",
      "TIMER\n",
      "0.5281348\n",
      "TIMER\n",
      "0.5281348\n",
      "Discord\n",
      "0.5458153\n",
      "TIMER\n",
      "0.5281348\n",
      "TIMER\n",
      "0.5281348\n",
      "T\n",
      "0.85148054\n",
      "me\n",
      "0.5813353\n",
      "TIMER\n",
      "0.5281348\n",
      "TIMER\n",
      "0.5281348\n",
      "panda\n",
      "0.7066832\n",
      "BACK\n",
      "0.8253149\n",
      "TIMER\n",
      "0.5281348\n",
      "LOL\n",
      "0.39654866\n",
      "TIMER\n",
      "0.5281348\n",
      "TIMER\n",
      "0.5281348\n",
      "TIMER\n",
      "0.5281348\n",
      "TIMER\n",
      "0.5281348\n",
      "hes\n",
      "0.7504941\n",
      "M\n",
      "0.7365167\n",
      "host\n",
      "0.4517543\n",
      "TIMER\n",
      "0.5281348\n",
      "C\n",
      "0.73538893\n",
      "TIMER\n",
      "0.5281348\n",
      "TIMER\n",
      "0.5281348\n",
      "TIMER\n",
      "0.5281348\n",
      "wait\n",
      "0.589137\n",
      "subs\n",
      "0.6076581\n",
      "LOL\n",
      "0.39654866\n",
      "TIMER\n",
      "0.5281348\n",
      "TIMER\n",
      "0.5281348\n",
      "TIMER\n",
      "0.5281348\n",
      "C\n",
      "0.73538893\n",
      "TIMER\n",
      "0.5281348\n",
      "subs\n",
      "0.63976854\n",
      "TIMER\n",
      "0.5281348\n",
      "TIMER\n",
      "0.5281348\n",
      "subs\n",
      "0.61366963\n",
      "TIMER\n",
      "0.5281348\n",
      "GUYS\n",
      "0.844878\n",
      "subs\n",
      "0.6076581\n",
      "mins\n",
      "0.7871721\n",
      "TIMER\n",
      "0.5281348\n",
      "mins\n",
      "0.83180916\n",
      "TIMER\n",
      "0.5281348\n",
      "TIMER\n",
      "0.5281348\n",
      "TIMER\n",
      "0.5281348\n",
      "pit\n",
      "0.7029724\n",
      "boop\n",
      "0.64896894\n",
      "Darkest\n",
      "0.5802118\n",
      "TIMER\n",
      "0.5281348\n",
      "LATE\n",
      "0.9987683\n",
      "TIMER\n",
      "0.5281348\n",
      "cute\n",
      "0.6589477\n",
      "quality\n",
      "0.53482914\n",
      "LATE\n",
      "0.99892396\n",
      "TIMER\n",
      "0.5281348\n",
      "BUT\n",
      "0.45643738\n",
      "button\n",
      "0.6329367\n",
      "TIMER\n",
      "0.5281348\n",
      "just\n",
      "0.49575064\n",
      "TIMER\n",
      "0.5281348\n",
      "TIMER\n",
      "0.5281348\n"
     ]
    }
   ],
   "source": [
    "import nltk\n",
    "from gensim.models import KeyedVectors\n",
    "import string\n",
    "import numpy as np\n",
    "\n",
    "similarities = []\n",
    "\n",
    "# Load a pre-trained word embedding model\n",
    "model = KeyedVectors.load_word2vec_format('GoogleNews-vectors-negative300.bin.gz', binary=True)\n",
    "\n",
    "candidate_words = all_words\n",
    "\n",
    "for i in range(len(long_df['masked'])):\n",
    "    # Define the sentence and candidate words\n",
    "    sentence = long_df['masked'].iloc[i]\n",
    "    # Tokenize the sentence and remove stop words and punctuation marks\n",
    "    tokens = nltk.word_tokenize(sentence)\n",
    "    stop_words = nltk.corpus.stopwords.words('english')\n",
    "    tokens = [token for token in tokens if token not in stop_words and token not in string.punctuation]\n",
    "\n",
    "    # Get the vector representation of each token in the sentence\n",
    "    token_vectors = [model.get_vector(token) for token in tokens if token in model.key_to_index]\n",
    "\n",
    "    # Calculate the mean vector of all the tokens in the sentence\n",
    "    if len(token_vectors) > 0:\n",
    "        sentence_vector = np.mean(token_vectors, axis=0)\n",
    "    else:\n",
    "        sentence_vector = np.zeros((model.vector_size,))\n",
    "\n",
    "    # Calculate cosine similarity for each candidate word\n",
    "    max_sim = -1\n",
    "    max_word = None\n",
    "    for word in candidate_words:\n",
    "        if word in model.key_to_index:\n",
    "            word_vector = model.get_vector(word)\n",
    "            sim = np.dot(sentence_vector, word_vector) / (np.linalg.norm(sentence_vector) * np.linalg.norm(word_vector))\n",
    "            if sim > max_sim:\n",
    "                max_sim = sim\n",
    "                max_word = word\n",
    "\n",
    "    # Output the mask word\n",
    "    print(max_word)\n",
    "    print(max_sim)\n",
    "    similarities.append(max_sim)"
   ]
  },
  {
   "cell_type": "code",
   "execution_count": 57,
   "metadata": {},
   "outputs": [
    {
     "name": "stdout",
     "output_type": "stream",
     "text": [
      "0.6222472831606864\n"
     ]
    }
   ],
   "source": [
    "print(sum(similarities) / len(similarities))"
   ]
  },
  {
   "cell_type": "code",
   "execution_count": 58,
   "metadata": {},
   "outputs": [
    {
     "data": {
      "text/plain": [
       "Text(0.5, 0, 'Sentence #')"
      ]
     },
     "execution_count": 58,
     "metadata": {},
     "output_type": "execute_result"
    },
    {
     "data": {
      "image/png": "[encoded data removed]",
      "text/plain": [
       "<Figure size 640x480 with 1 Axes>"
      ]
     },
     "metadata": {},
     "output_type": "display_data"
    }
   ],
   "source": [
    "#Display your results!\n",
    "plt.scatter(range(len(similarities)), similarities)\n",
    "plt.xlim(0, len(similarities))\n",
    "plt.ylim(0, 1)\n",
    "plt.ylabel(\"Cosine Similarity of Predicted vs. Actual\")\n",
    "plt.xlabel(\"Sentence #\")"
   ]
  }
 ],
 "metadata": {
  "kernelspec": {
   "display_name": ".venv",
   "language": "python",
   "name": "python3"
  },
  "language_info": {
   "codemirror_mode": {
    "name": "ipython",
    "version": 3
   },
   "file_extension": ".py",
   "mimetype": "text/x-python",
   "name": "python",
   "nbconvert_exporter": "python",
   "pygments_lexer": "ipython3",
   "version": "3.8.8"
  },
  "orig_nbformat": 4
 },
 "nbformat": 4,
 "nbformat_minor": 2
}
