{
 "cells": [
  {
   "cell_type": "code",
   "execution_count": 1,
   "metadata": {},
   "outputs": [],
   "source": [
    "#This is my model for generation of words on a partially masked corpus of text i.e. Twitch Data"
   ]
  },
  {
   "cell_type": "code",
   "execution_count": 2,
   "metadata": {},
   "outputs": [],
   "source": [
    "#Utilizing Hugging Face\n",
    "#https://huggingface.co/docs/transformers/quicktour\n",
    "\n",
    "#Refs\n",
    "#https://towardsdatascience.com/how-to-use-bert-from-the-hugging-face-transformer-library-d373a22b0209"
   ]
  },
  {
   "attachments": {},
   "cell_type": "markdown",
   "metadata": {},
   "source": [
    "**Install Requirements**"
   ]
  },
  {
   "cell_type": "code",
   "execution_count": 2,
   "metadata": {},
   "outputs": [
    {
     "name": "stdout",
     "output_type": "stream",
     "text": [
      "Collecting scikit-learn\n",
      "  Downloading scikit_learn-1.2.2-cp38-cp38-win_amd64.whl (8.3 MB)\n",
      "Requirement already satisfied: numpy>=1.17.3 in c:\\users\\anish\\projects\\twitchbot\\venv\\lib\\site-packages (from scikit-learn) (1.23.5)\n",
      "Collecting joblib>=1.1.1\n",
      "  Using cached joblib-1.2.0-py3-none-any.whl (297 kB)\n",
      "Requirement already satisfied: scipy>=1.3.2 in c:\\users\\anish\\projects\\twitchbot\\venv\\lib\\site-packages (from scikit-learn) (1.10.1)\n",
      "Collecting threadpoolctl>=2.0.0\n",
      "  Using cached threadpoolctl-3.1.0-py3-none-any.whl (14 kB)\n",
      "Installing collected packages: joblib, threadpoolctl, scikit-learn\n",
      "Successfully installed joblib-1.2.0 scikit-learn-1.2.2 threadpoolctl-3.1.0\n",
      "Note: you may need to restart the kernel to use updated packages.\n"
     ]
    },
    {
     "name": "stderr",
     "output_type": "stream",
     "text": [
      "WARNING: You are using pip version 20.2.3; however, version 23.1.2 is available.\n",
      "You should consider upgrading via the 'c:\\Users\\anish\\Projects\\twitchBot\\venv\\Scripts\\python.exe -m pip install --upgrade pip' command.\n"
     ]
    }
   ],
   "source": [
    "# %pip install transformers datasets\n",
    "# %pip install torch\n",
    "# %from transformers import EncoderDecoderModel, BertTokenizer\n",
    "# %pip freeze requirements.txt\n",
    "# %pip install matplotlib\n",
    "# %pip install numpy\n",
    "# %pip install tensorflow\n",
    "%pip install scikit-learn\n"
   ]
  },
  {
   "attachments": {},
   "cell_type": "markdown",
   "metadata": {},
   "source": [
    "**Imports**"
   ]
  },
  {
   "cell_type": "code",
   "execution_count": 4,
   "metadata": {},
   "outputs": [
    {
     "name": "stderr",
     "output_type": "stream",
     "text": [
      "c:\\Users\\anish\\Projects\\twitchBot\\venv\\lib\\site-packages\\tqdm\\auto.py:21: TqdmWarning: IProgress not found. Please update jupyter and ipywidgets. See https://ipywidgets.readthedocs.io/en/stable/user_install.html\n",
      "  from .autonotebook import tqdm as notebook_tqdm\n"
     ]
    }
   ],
   "source": [
    "import transformers\n",
    "import torch\n",
    "import os\n",
    "import pandas as pd\n",
    "import pickle as pkl\n",
    "import random\n",
    "from torch.nn import functional as F\n",
    "import matplotlib.pyplot as plt\n",
    "import numpy as np"
   ]
  },
  {
   "attachments": {},
   "cell_type": "markdown",
   "metadata": {},
   "source": [
    "**Loading Data**"
   ]
  },
  {
   "cell_type": "code",
   "execution_count": 5,
   "metadata": {},
   "outputs": [
    {
     "name": "stdout",
     "output_type": "stream",
     "text": [
      "Adding file: admiralbahroo.pkl\n",
      "Adding file: admiralbulldog.pkl\n"
     ]
    }
   ],
   "source": [
    "#Load Raw Data from StreamerData folder\n",
    "#- Take certain number of files from data folder to use for generation\n",
    "\n",
    "#Set this to the path of your data\n",
    "folder_path = 'C:/Users/anish/Projects/twitchBot/streamerdata'\n",
    "\n",
    "numFiles = 2\n",
    "\n",
    "data = []\n",
    "\n",
    "for i, file in enumerate(os.listdir(folder_path)):\n",
    "    print(\"Adding file:\", file)\n",
    "    if i == numFiles - 1:\n",
    "        break  \n",
    "    with open(os.path.join(folder_path, file), 'rb') as f:\n",
    "        curr_file = pkl.load(f)\n",
    "        data.append(curr_file)\n",
    "\n",
    "all_df = pd.concat(data, axis = 0)"
   ]
  },
  {
   "cell_type": "code",
   "execution_count": 6,
   "metadata": {},
   "outputs": [
    {
     "data": {
      "text/html": [
       "<div>\n",
       "<style scoped>\n",
       "    .dataframe tbody tr th:only-of-type {\n",
       "        vertical-align: middle;\n",
       "    }\n",
       "\n",
       "    .dataframe tbody tr th {\n",
       "        vertical-align: top;\n",
       "    }\n",
       "\n",
       "    .dataframe thead th {\n",
       "        text-align: right;\n",
       "    }\n",
       "</style>\n",
       "<table border=\"1\" class=\"dataframe\">\n",
       "  <thead>\n",
       "    <tr style=\"text-align: right;\">\n",
       "      <th></th>\n",
       "      <th>body</th>\n",
       "      <th>channel_id</th>\n",
       "      <th>commenter_id</th>\n",
       "      <th>commenter_type</th>\n",
       "      <th>created_at</th>\n",
       "      <th>fragments</th>\n",
       "      <th>offset</th>\n",
       "      <th>updated_at</th>\n",
       "      <th>video_id</th>\n",
       "    </tr>\n",
       "  </thead>\n",
       "  <tbody>\n",
       "    <tr>\n",
       "      <th>0</th>\n",
       "      <td>STILL LATE STRIMMER IS A BAKA rooBaka STRIMMER...</td>\n",
       "      <td>40972890</td>\n",
       "      <td>110969182</td>\n",
       "      <td>user</td>\n",
       "      <td>2018-06-24T17:07:43.067Z</td>\n",
       "      <td>[{'text': 'STILL LATE STRIMMER IS A BAKA '}, {...</td>\n",
       "      <td>4.367</td>\n",
       "      <td>2018-06-24T17:07:43.067Z</td>\n",
       "      <td>277073045</td>\n",
       "    </tr>\n",
       "    <tr>\n",
       "      <th>1</th>\n",
       "      <td>NOT LIVE rooREE rooREE rooREE</td>\n",
       "      <td>40972890</td>\n",
       "      <td>109856709</td>\n",
       "      <td>user</td>\n",
       "      <td>2018-06-24T17:07:43.168Z</td>\n",
       "      <td>[{'text': 'NOT LIVE '}, {'emoticon_id': '90487...</td>\n",
       "      <td>4.468</td>\n",
       "      <td>2018-06-24T17:07:43.168Z</td>\n",
       "      <td>277073045</td>\n",
       "    </tr>\n",
       "    <tr>\n",
       "      <th>2</th>\n",
       "      <td>rooBaka BAHROOrooBaka BAHROOrooBaka BAHROOrooB...</td>\n",
       "      <td>40972890</td>\n",
       "      <td>56159955</td>\n",
       "      <td>user</td>\n",
       "      <td>2018-06-24T17:07:44.631Z</td>\n",
       "      <td>[{'emoticon_id': '904818'}, {'text': ' BAHROOr...</td>\n",
       "      <td>5.931</td>\n",
       "      <td>2018-06-24T17:07:44.631Z</td>\n",
       "      <td>277073045</td>\n",
       "    </tr>\n",
       "    <tr>\n",
       "      <th>3</th>\n",
       "      <td>See</td>\n",
       "      <td>40972890</td>\n",
       "      <td>78678476</td>\n",
       "      <td>user</td>\n",
       "      <td>2018-06-24T17:07:45.602Z</td>\n",
       "      <td>[{'text': 'See'}]</td>\n",
       "      <td>6.902</td>\n",
       "      <td>2018-06-24T17:07:45.602Z</td>\n",
       "      <td>277073045</td>\n",
       "    </tr>\n",
       "    <tr>\n",
       "      <th>4</th>\n",
       "      <td>rooPog</td>\n",
       "      <td>40972890</td>\n",
       "      <td>30898708</td>\n",
       "      <td>user</td>\n",
       "      <td>2018-06-24T17:07:45.802Z</td>\n",
       "      <td>[{'emoticon_id': '904866'}]</td>\n",
       "      <td>7.102</td>\n",
       "      <td>2018-06-24T17:07:45.802Z</td>\n",
       "      <td>277073045</td>\n",
       "    </tr>\n",
       "  </tbody>\n",
       "</table>\n",
       "</div>"
      ],
      "text/plain": [
       "                                                body channel_id commenter_id  \\\n",
       "0  STILL LATE STRIMMER IS A BAKA rooBaka STRIMMER...   40972890    110969182   \n",
       "1                      NOT LIVE rooREE rooREE rooREE   40972890    109856709   \n",
       "2  rooBaka BAHROOrooBaka BAHROOrooBaka BAHROOrooB...   40972890     56159955   \n",
       "3                                                See   40972890     78678476   \n",
       "4                                             rooPog   40972890     30898708   \n",
       "\n",
       "  commenter_type                created_at  \\\n",
       "0           user  2018-06-24T17:07:43.067Z   \n",
       "1           user  2018-06-24T17:07:43.168Z   \n",
       "2           user  2018-06-24T17:07:44.631Z   \n",
       "3           user  2018-06-24T17:07:45.602Z   \n",
       "4           user  2018-06-24T17:07:45.802Z   \n",
       "\n",
       "                                           fragments  offset  \\\n",
       "0  [{'text': 'STILL LATE STRIMMER IS A BAKA '}, {...   4.367   \n",
       "1  [{'text': 'NOT LIVE '}, {'emoticon_id': '90487...   4.468   \n",
       "2  [{'emoticon_id': '904818'}, {'text': ' BAHROOr...   5.931   \n",
       "3                                  [{'text': 'See'}]   6.902   \n",
       "4                        [{'emoticon_id': '904866'}]   7.102   \n",
       "\n",
       "                 updated_at   video_id  \n",
       "0  2018-06-24T17:07:43.067Z  277073045  \n",
       "1  2018-06-24T17:07:43.168Z  277073045  \n",
       "2  2018-06-24T17:07:44.631Z  277073045  \n",
       "3  2018-06-24T17:07:45.602Z  277073045  \n",
       "4  2018-06-24T17:07:45.802Z  277073045  "
      ]
     },
     "metadata": {},
     "output_type": "display_data"
    },
    {
     "name": "stdout",
     "output_type": "stream",
     "text": [
      "['body', 'channel_id', 'commenter_id', 'commenter_type', 'created_at', 'fragments', 'offset', 'updated_at', 'video_id']\n",
      "Num Rows: 2722109\n",
      "Num Cols: 9\n"
     ]
    }
   ],
   "source": [
    "#Display all_data\n",
    "display(all_df.head())\n",
    "\n",
    "#Print data columns\n",
    "print([i for i in all_df.columns])\n",
    "\n",
    "#Print size of data\n",
    "print(\"Num Rows:\", len(all_df))\n",
    "print(\"Num Cols:\", len(all_df.columns))\n"
   ]
  },
  {
   "attachments": {},
   "cell_type": "markdown",
   "metadata": {},
   "source": [
    "**Data Preprocessing**"
   ]
  },
  {
   "cell_type": "code",
   "execution_count": 7,
   "metadata": {},
   "outputs": [
    {
     "name": "stdout",
     "output_type": "stream",
     "text": [
      "Number of Rows: 100\n"
     ]
    },
    {
     "data": {
      "text/plain": [
       "0    STILL LATE STRIMMER IS A BAKA rooBaka STRIMMER...\n",
       "1                     [MASK] LIVE rooREE rooREE rooREE\n",
       "2    rooBaka BAHROOrooBaka BAHROOrooBaka BAHROOrooB...\n",
       "7           rooHappy rooHappy [MASK] rooHappy rooHappy\n",
       "8    rooREE LATE rooREE LATE rooREE LATE rooREE LAT...\n",
       "Name: masked, dtype: object"
      ]
     },
     "metadata": {},
     "output_type": "display_data"
    }
   ],
   "source": [
    "#Filter Data Frame by Strings that are longer than 3 -> Allow for masking\n",
    "long_df = all_df[all_df['body'].apply(lambda x: len(x.split(' '))) > 3]\n",
    "\n",
    "#Use small dataframe for testing efficiency's sake\n",
    "long_df = long_df.iloc[:100]\n",
    "print(\"Number of Rows:\", len(long_df))\n",
    "\n",
    "#Replace certain words with Mask token '[MASK]'\n",
    "masked_arr = long_df.body.tolist()\n",
    "for i in range(len(masked_arr)):\n",
    "\n",
    "    add_mask = masked_arr[i].split(\" \")\n",
    "    mask_index = random.randint(0, len(add_mask) - 1)\n",
    "    add_mask[mask_index] = '[MASK]'\n",
    "    masked_arr[i] = \" \".join(add_mask)\n",
    "\n",
    "\n",
    "long_df['masked'] = masked_arr\n",
    "\n",
    "display(long_df['masked'].head())"
   ]
  },
  {
   "cell_type": "code",
   "execution_count": 8,
   "metadata": {},
   "outputs": [
    {
     "ename": "ModuleNotFoundError",
     "evalue": "No module named 'sklearn'",
     "output_type": "error",
     "traceback": [
      "\u001b[1;31m---------------------------------------------------------------------------\u001b[0m",
      "\u001b[1;31mModuleNotFoundError\u001b[0m                       Traceback (most recent call last)",
      "Cell \u001b[1;32mIn[8], line 3\u001b[0m\n\u001b[0;32m      1\u001b[0m \u001b[39mimport\u001b[39;00m \u001b[39mnumpy\u001b[39;00m \u001b[39mas\u001b[39;00m \u001b[39mnp\u001b[39;00m\n\u001b[0;32m      2\u001b[0m \u001b[39mimport\u001b[39;00m \u001b[39mtensorflow\u001b[39;00m \u001b[39mas\u001b[39;00m \u001b[39mtf\u001b[39;00m\n\u001b[1;32m----> 3\u001b[0m \u001b[39mfrom\u001b[39;00m \u001b[39msklearn\u001b[39;00m\u001b[39m.\u001b[39;00m\u001b[39mmetrics\u001b[39;00m\u001b[39m.\u001b[39;00m\u001b[39mpairwise\u001b[39;00m \u001b[39mimport\u001b[39;00m cosine_similarity\n\u001b[0;32m      5\u001b[0m \u001b[39m# Define the model\u001b[39;00m\n\u001b[0;32m      6\u001b[0m \u001b[39mclass\u001b[39;00m \u001b[39mMaskedWordGenerator\u001b[39;00m(tf\u001b[39m.\u001b[39mkeras\u001b[39m.\u001b[39mModel):\n",
      "\u001b[1;31mModuleNotFoundError\u001b[0m: No module named 'sklearn'"
     ]
    }
   ],
   "source": [
    "import numpy as np\n",
    "import tensorflow as tf\n",
    "from sklearn.metrics.pairwise import cosine_similarity\n",
    "\n",
    "# Define the model\n",
    "class MaskedWordGenerator(tf.keras.Model):\n",
    "    def __init__(self, vocab_size, embedding_dim, hidden_dim):\n",
    "        super(MaskedWordGenerator, self).__init__()\n",
    "        self.embedding = tf.keras.layers.Embedding(vocab_size, embedding_dim)\n",
    "        self.dense1 = tf.keras.layers.Dense(hidden_dim, activation='relu')\n",
    "        self.dense2 = tf.keras.layers.Dense(vocab_size, activation='softmax')\n",
    "    \n",
    "    def call(self, inputs):\n",
    "        x = self.embedding(inputs)\n",
    "        x = tf.reduce_mean(x, axis=1)\n",
    "        x = self.dense1(x)\n",
    "        x = self.dense2(x)\n",
    "        return x\n",
    "\n",
    "# Generate training data\n",
    "train_data = [\n",
    "    \"The quick brown fox jumps over the lazy dog\",\n",
    "    \"The quick brown cat jumps over the lazy dog\",\n",
    "    \"The quick brown dog jumps over the lazy fox\",\n",
    "    \"The quick brown dog jumps over the lazy cat\",\n",
    "    \"The quick brown fox jumps over the quick dog\"\n",
    "]\n",
    "\n",
    "vocab = set()\n",
    "for sentence in train_data:\n",
    "    vocab.update(sentence.split())\n",
    "    \n",
    "vocab_size = len(vocab)\n",
    "word_to_idx = {word: i for i, word in enumerate(vocab)}\n",
    "idx_to_word = {i: word for word, i in word_to_idx.items()}\n",
    "    \n",
    "train_X = []\n",
    "train_Y = []\n",
    "for sentence in train_data:\n",
    "    words = sentence.split()\n",
    "    masked_word_idx = np.random.choice(len(words))\n",
    "    masked_word = words[masked_word_idx]\n",
    "    words[masked_word_idx] = '<MASK>'\n",
    "    input_X = np.array([word_to_idx.get(word, 0) for word in words])\n",
    "    train_X.append(input_X)\n",
    "    output_Y = np.zeros((vocab_size,))\n",
    "    for word in vocab:\n",
    "        if word != masked_word:\n",
    "            output_Y[word_to_idx[word]] = cosine_similarity(\n",
    "                np.array([self.embedding([word_to_idx[masked_word]])]),\n",
    "                np.array([self.embedding([word_to_idx[word]])])\n",
    "            )[0][0]\n",
    "    train_Y.append(output_Y)\n",
    "    \n",
    "train_X = tf.keras.preprocessing.sequence.pad_sequences(train_X, padding='post')\n",
    "train_Y = np.array(train_Y)\n",
    "\n",
    "# Initialize the model and compile\n",
    "model = MaskedWordGenerator(vocab_size, 50, 50)\n",
    "model.compile(optimizer='adam', loss='categorical_crossentropy')\n",
    "\n",
    "# Train the model\n",
    "model.fit(train_X, train_Y, epochs=50, batch_size=32)\n",
    "\n",
    "# Generate masked word predictions\n",
    "test_sentence = \"The quick brown fox jumps over the lazy dog\"\n",
    "test_words = test_sentence.split()\n",
    "masked_word_idx = np.random.choice(len(test_words))\n",
    "masked_word = test_words[masked_word_idx]\n",
    "test_words[masked_word_idx] = '<MASK>'\n",
    "test_X = np.array([word_to_idx.get(word, 0) for word in test_words])\n",
    "test_X = np.expand_dims(test_X, axis=0)\n",
    "pred_Y = model.predict(test_X)[0]\n",
    "pred_word_idx = np.argmax(pred_Y)\n",
    "pred_word = idx_to_word[pred_word_idx]\n",
    "\n",
    "print(f\"Original sentence: {test_sentence}\")\n",
    "print(f\"Masked sentence: {' '.join(test_words)}\")\n",
    "print(f\"Predicted word: {pred_word}\")"
   ]
  },
  {
   "attachments": {},
   "cell_type": "markdown",
   "metadata": {},
   "source": [
    "**Tokenizing**"
   ]
  },
  {
   "cell_type": "code",
   "execution_count": null,
   "metadata": {},
   "outputs": [
    {
     "name": "stderr",
     "output_type": "stream",
     "text": [
      "Some weights of the model checkpoint at bert-base-uncased were not used when initializing BertForMaskedLM: ['cls.seq_relationship.bias', 'cls.seq_relationship.weight']\n",
      "- This IS expected if you are initializing BertForMaskedLM from the checkpoint of a model trained on another task or with another architecture (e.g. initializing a BertForSequenceClassification model from a BertForPreTraining model).\n",
      "- This IS NOT expected if you are initializing BertForMaskedLM from the checkpoint of a model that you expect to be exactly identical (initializing a BertForSequenceClassification model from a BertForSequenceClassification model).\n"
     ]
    }
   ],
   "source": []
  },
  {
   "attachments": {},
   "cell_type": "markdown",
   "metadata": {},
   "source": [
    "**Get Predictions**"
   ]
  },
  {
   "cell_type": "code",
   "execution_count": null,
   "metadata": {},
   "outputs": [
    {
     "name": "stdout",
     "output_type": "stream",
     "text": [
      "0 Masked: STILL LATE STRIMMER IS A BAKA rooBaka STRIMMER IS A BAKA rooBaka STRIMMER IS A BAKA rooBaka\n",
      "0 Predicted: STILL LATE STRIMMER IS A BAKA rooBaka STRIMMER IS A BAKA rooBaka STRIMMER IS A new rooBaka\n",
      "1 Masked: NOT LIVE rooREE rooREE rooREE\n",
      "1 Predicted: NOT ##te rooREE rooREE rooREE\n",
      "2 Masked: rooBaka BAHROOrooBaka BAHROOrooBaka BAHROOrooBaka BAHROOrooBaka BAHROOrooBaka BAHROOrooBaka BAHROOrooBaka BAHROOrooBaka BAHROOrooBaka BAHROOrooBaka BAHROOrooBaka BAHROOrooBaka BAHROO\n",
      "2 Predicted: rooBaka BAHROOrooBaka BAHROOrooBaka BAHROOrooBaka BAHROOrooBaka BAHROOrooBaka BAHROOrooBaka BAHROOrooBaka - BAHROOrooBaka BAHROOrooBaka BAHROOrooBaka BAHROOrooBaka BAHROO\n",
      "3 Masked: rooHappy rooHappy rooHappy rooHappy rooHappy\n",
      "3 Predicted: rooHappy ! rooHappy rooHappy rooHappy\n",
      "4 Masked: rooREE LATE rooREE LATE rooREE LATE rooREE LATE rooREE LATE rooREE LATE rooREE LATE rooREE LATE rooREE LATE rooREE LATE rooREE LATE rooREE LATE rooREE LATE rooREE LATE rooREE LATE rooREE LATE rooREE LATE rooREE LATE rooREE LATE rooREE LATE rooREE LATE rooREE LATE rooREE LATE rooREE LATE rooREE LATE rooREE LATE\n",
      "4 Predicted: rooREE LATE rooREE LATE rooREE LATE rooREE LATE rooREE LATE rooREE LATE rooREE LATE rooREE LATE rooREE LATE rooREE LATE rooREE LATE rooREE LATE rooREE LATE and LATE rooREE LATE rooREE LATE rooREE LATE rooREE LATE rooREE LATE rooREE LATE rooREE LATE rooREE LATE rooREE LATE rooREE LATE rooREE LATE rooREE LATE\n"
     ]
    }
   ],
   "source": []
  },
  {
   "attachments": {},
   "cell_type": "markdown",
   "metadata": {},
   "source": [
    "**Loss Metric**"
   ]
  },
  {
   "cell_type": "code",
   "execution_count": null,
   "metadata": {},
   "outputs": [
    {
     "name": "stdout",
     "output_type": "stream",
     "text": [
      "Cosine similarity: 0.9177695512771606\n"
     ]
    }
   ],
   "source": []
  },
  {
   "cell_type": "code",
   "execution_count": null,
   "metadata": {},
   "outputs": [
    {
     "data": {
      "text/plain": [
       "Text(0.5, 0, 'Sentence #')"
      ]
     },
     "execution_count": 51,
     "metadata": {},
     "output_type": "execute_result"
    },
    {
     "data": {
      "image/png": "[encoded data removed]",
      "text/plain": [
       "<Figure size 640x480 with 1 Axes>"
      ]
     },
     "metadata": {},
     "output_type": "display_data"
    }
   ],
   "source": []
  },
  {
   "attachments": {},
   "cell_type": "markdown",
   "metadata": {},
   "source": [
    "** Alternate Methodolgy of Calling Hugging Face Model **"
   ]
  },
  {
   "cell_type": "code",
   "execution_count": null,
   "metadata": {},
   "outputs": [],
   "source": []
  }
 ],
 "metadata": {
  "kernelspec": {
   "display_name": ".venv",
   "language": "python",
   "name": "python3"
  },
  "language_info": {
   "codemirror_mode": {
    "name": "ipython",
    "version": 3
   },
   "file_extension": ".py",
   "mimetype": "text/x-python",
   "name": "python",
   "nbconvert_exporter": "python",
   "pygments_lexer": "ipython3",
   "version": "3.8.8"
  },
  "orig_nbformat": 4
 },
 "nbformat": 4,
 "nbformat_minor": 2
}
